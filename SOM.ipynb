{
 "cells": [
  {
   "cell_type": "markdown",
   "id": "8a606857-6d2a-4f7b-a4e0-598070e49290",
   "metadata": {},
   "source": [
    "# An Introduction to Self-Organizing Maps\n",
    "Mohammad Elahian, Calla Mueller, Kiki Vadivel, & Salone Verma\n",
    "\n",
    "## Abstract\n",
    "*Self-organizing maps (SOMs) are a type of unsupervised neural network that is used for dimensionality reduction and data visualization. Focusing on their capacity to reveal complex patterns in high-dimensional datasets, this paper aims to provide an introductory explanation into the uses, applications, and algorithm of the SOM. Using a simple Python implementation, we apply SOMs to the breast cancer dataset from scikit-learn, evaluating their performance under three neighbourhood functions: step, Gaussian, and Ricker wavelet. Our findings demonstrate that even a simple SOM is capable of producing a useful, interpretable map that allows for analysis of data and experimental manipulations such as comparing neighbourhood functions. While all three functions produce meaningful cluster separations, the Ricker wavelet yields the most refined map, followed by the Gaussian function. These results validate SOMs as powerful tools for exploratory data analysis and the straightforward Python implementation requires minimal mathematical background, making SOMs accessible to all audiences.*\n",
    "\n",
    "## Introduction \n",
    "In the early 1980s, Teuvo Kohonen introduced the concept of self-organizing maps (SOMs), a novel class of unsupervised learning network inspired by neural processes (Kohonen, 1982). SOMs provide a framework for dimensionality reduction and data visualization by transforming complex, multi-dimensional inputs into organized, low-dimensional representations to reveal patterns in an interpretable format.\n",
    "\n",
    "SOMs are a type of artificial neural network that feature competitive unsupervised learning. This means that nodes of the network compete for the ability to respond to each data input. Unsupervised learning means that an SOM doesn’t require any training data with known classes—that is, SOMs can visualize and classify data without the need for a priori knowledge about what classes any of the datapoints belong to. This makes SOMs unique from other common types of artificial neural networks which rely on feedback about known data classes. These features make SOMs ideal for exploratory data analysis and understanding complex data (Kohonen, 1990). \n",
    "\n",
    "### Advantages and Disadvantages \n",
    "Self-organizing maps are useful for analyzing and understanding complex, high-dimensional data. One major advantage compared to some other neural networks of SOMs is their unsupervised nature—they are useful for analyzing datasets in which the number of clusters and their relations to each other are not known. Additionally, when compared to other dimensionality-reducing methods such as principal components analysis (PCA), SOMs result in a continuous visualization of clusters—that is, clusters are not divided categorically but rather are represented continuously such that the relation between clusters can be observed in more detail (Chattopadhyay & Gupta, 2016). \n",
    "\n",
    "Another use of SOMs is data visualization. Even if data for a project is being analyzed through another method, simple SOMs are generally easy to implement and can generate easy-to-follow, information-rich visualizations of data (Kohonen, 2013). \n",
    "\n",
    "However, SOMs do have some drawbacks. They will perform poorly with particular types of data, such as purely categorical or mixed categorical-continuous datasets, though new versions of SOMs are being developed to address these issues (Hsu, 2006; Rogovschi et al., 2011). Additionally, one major disadvantage of SOMs is that they can be very slow; as will be discussed later, the algorithm of a SOM involves many nested loops, meaning that, especially for large datasets, a map can take a long time to form.  \n",
    "\n",
    "### Applications of SOMs in Neuroscience and Psychology \n",
    "Self-organizing maps were initially designed in an attempt to understand biological processes. Specifically, they were made to replicate a map of how sensory information from different parts of the body is processed in the brain (Kohonen, 1982). When comparing SOMs to various neural processes, such as the aforementioned sensory map or retinotopic mapping of the visual field, there are similarities between the two which suggest that something similar to a SOM may be used by the brain (Kohonen & Hari, 1999). Furthermore, it has been suggested that the processes within SOMs, such as the neighbourhood function, can be implemented by chemical processes; in other words, a SOM is biologically plausible (Kohonen, 1993). As such, SOMs are frequently used in neural modelling and have been used to help explain behavioural and cognitive phenomena in psychology and neuroscience. For example, SOMs have been applied to models of language acquisition (Li & Zhao, 2013), methods of identifying students in need of academic support (Montalt-García et al., 2025), methods of analyzing neurophysiological data (Xu & Yang, 2023), and are even beginning to be used for the creation of improved diagnostic criteria for mental disorders such as depression (Loula & Monteiro, 2022). It is thus clear that SOMs have a wide variety of applications and will continue to be used in novel ways to test new ideas about human neurophysiology and behaviour. \n",
    "\n",
    "### Algorithm \n",
    "#### Architecture \n",
    "Self-organizing maps are made of two layers: “input space”, which is typically high-dimensional with one dimension per feature of the input data, and “map space”, which is a lower-dimensional space that contains the output of the SOM (Kohonen, 1990). In other words, the goal of a SOM is to take high-dimensional input space and map it onto low-dimensional map space so that the data can be easily visualized and understood. \n",
    "\n",
    "Map space is made up of a grid of nodes, which are often referred to or thought of as neurons when using SOMs for neuroscience-related tasks. The size and shape of this grid will differ between implementations based on the specific goals of an analysis. For simple implementations, a square grid will suffice, but hexagonal grids are also a popular choice as hexagons have more neuronal neighbours (other neurons directly adjacent to them), which will result in a smoother final map (Kohonen, 2014; Lopez-Rubio & Ramos, 2014). The ideal dimensions of a map also differ depending on the analysis and there are a number of suggestions and rules depending on types of data (Kohonen, 2014); when using SOMs for statistical purposes, a general rule states that a map should contain approximately $5\\sqrt{n}$ neurons, where $n$ refers to the number of samples in the dataset (Vettigli, 2018). \n",
    "\n",
    "Each neuron on the map has a weight vector. The weight vector represents the position of that node in input space and therefore has the same number of dimensions as each sample of data. The goal of the SOM algorithm is to modify these weight vectors to move them towards the input data while preserving the two-dimensional topography of the map space, such that the end result has similar data clustered together on the map. Throughout this process, the neurons themselves remain fixed in place and only the weights change—in other words, neurons don’t move in map space but do move in input space. \n",
    "In order to run such an algorithm, the weight vectors of each neuron need to be initialized with some value. One of the most common methods is to randomly generate initial weights, which was the method proposed by Kohonen (1990). However, other methods are also used, such as sample-based initialization, in which initial weights are equal to randomly-selected samples from the input data, or principal component initialization, which is a relatively new method in which initial weight vectors are chosen based on the principal components of a dataset to reflect its distribution, but the ideal method will depend on the dataset (Akinduko et al., 2016). \n",
    "\n",
    "There are two additional parameters that need to be defined before training a SOM. First, weights are updated based on a learning rate, which is simply a factor by which the weight of a neuron will be moved toward a matching input. The simplest learning rate is establishing a linear function beginning with a learning rate of one (Stefanovic & Kurasova, 2014). Second, a neighbourhood radius also needs to be defined, which indicates how many neurons will be considered neighbours to a selected neuron. However, while the initial values for these variables can influence how the map is generated, small changes don’t typically greatly influence results. The reason for this is because both the learning rate and neighbourhood radius are designed to exponentially decay with each step of the map. With each iteration of training (i.e., each time an input vector is selected and the map is modified based on distances from this input), the learning rate and neighbourhood radius decrease. This allows the map to make large-scale adjustments initially but then move into local fine-tuning as training progresses (Miljkovic, 2017).\n",
    "\n",
    "Relatedly, the final parameter to set is therefore the number of iterations the training phase will run for. Setting a finite number of iterations is necessary as the exponential decay function of the learning rate and neighbourhood radius depend on having a known stopping point for training. Setting the correct number of iterations can be difficult to determine, as too few may result in an unclear final map, but too many will drastically increase processing time, but there are various guidelines depending on the data and desired analysis goal (Kohonen, 1990).  \n",
    "\n",
    "#### Training \n",
    "The algorithm of a SOM can be described in two phases. First, in the training phase, the map begins with random initialized weights and uses input data to generate an organized map space based on the distribution of input data. Second, in the mapping phase, new datapoints can be mapped onto the finalized map to determine where they fall within the map’s topography. This can be used as a method of classifying new data or as a way to test the success of a map. \n",
    "\n",
    "After the SOM has been initialized with a grid of neurons and weight vectors, the training phase can be broken down into a series of steps: \n",
    "1. Select a random input from the dataset and find the best matching unit (BMU) among the neuron weights. \n",
    "2. Define neighbouring neurons to the BMU.\n",
    "3. Update the weight vectors of neighbouring neurons.\n",
    "4. Adjust parameters to fine-tune the map. \n",
    "5. Repeat steps for a set number of iterations. \n",
    "\n",
    "##### Step 1: Locating the Best Matching Unit \n",
    "To begin, a random input from the dataset is selected. This input is in the form of a vector with a number of dimensions equal to the number of features in the dataset. The goal of the algorithm is to find the best matching unit (BMU) for this input vector, which is defined as the neuron with the weight vector that is closest, in terms of distance in input space, to the input vector. \n",
    "\n",
    "In order to find the BMU, the distance between the selected input vector and the weight vectors of every neuron on the grid must be calculated. Typically, SOMs use the Euclidean distance between the two vectors for this measure, though other more complex variations for particular purposes (Grajciarova et al., 2012). Calculating the Euclidean distance between two vectors can be mathematically defined as $\\sqrt{\\sum_{j=1}^{n} (x_j-w_{ij})^2}$, where $x$ is the input vector, $w$ is the weight of a neuron, $i$ is each neuron, and $n$ is the number of features. Euclidean distance can also be represented by the notation $\\|x - w_i\\|$. \n",
    "\n",
    "The algorithm for a SOM loops through every neuron in the grid and calculates the Euclidean distance between its weight vector and the input vector. It then locates the minimum distance out of all of the neurons, which is defined as the best matching unit (BMU). \n",
    "\n",
    "##### Step 2: Defining the Neighbourhood\n",
    "After the BMU has been located, the next step is to update the weights of not just the BMU but also neurons that are close to it, in order to pull similar inputs closer together. As such, it is necessary to define what constitutes being “close” to the BMU. \n",
    "\n",
    "A neighbourhood function takes the BMU as an input and determines which neurons in the grid are considered close or far enough to the BMU that their weights should also be updated and then returns a value representative of their relative position. The simplest form of neighbourhood function is the step function, in which neurons within the neighbourhood radius are coded as “1” and neurons outside the radius are coded as “0” (Fig. 1A; Stefanovic & Kurasova, 2014). These values will then act as factors by which the weight updating equation will be multiplied by; therefore with a step function, all neighbouring neurons will have their weights updated by the same amount, and all neurons outside the neighbourhood will not be updated at all. \n",
    "\n",
    "However, other neighbourhood function options also exist, and using a more complex neighbourhood function can allow a map to converge into a meaningful topography more quickly and generate a smoother final map. One common neighbourhood function is to use a Gaussian curve with the BMU as the center, such that neurons that are very close to the BMU are updated a lot, neurons that are moderately far away are updated a little, and neurons that are very far away are not updated at all (Fig. 1B; Kohonen, 2013; Stefanovic & Kurasova, 2014). Another option is the Ricker wavelet, which contains a Gaussian curve in the center but then dips below the x-axis at greater deviations from the center (Fig. 1C; Miljkovic, 2017). In this case, neurons that are near to the BMU will be updated in a manner similar to the Gaussian curve, but neurons very far away from the BMU will be updated negatively, such that their weights actually move farther away from the BMU rather than simply not being updated. This option is often used in neuroscience applications of SOMs as these negatively-updated weights can be thought to represent the actions of inhibitory neurons in the brain (Viviani & Dorronsoro, 2002). "
   ]
  },
  {
   "cell_type": "code",
   "execution_count": 6,
   "id": "1ea75f65-b58b-44ab-92a6-2ebfb52e9618",
   "metadata": {},
   "outputs": [
    {
     "data": {
      "text/html": [
       "<img src=\"https://github.com/c7mueller/PSYCH_420_SOM/blob/8262e50fa631e5579967adeb726bfea906c02511/neighbourhoods.png?raw=true\"/>"
      ],
      "text/plain": [
       "<IPython.core.display.Image object>"
      ]
     },
     "execution_count": 6,
     "metadata": {},
     "output_type": "execute_result"
    }
   ],
   "source": [
    "from IPython.display import Image\n",
    "from IPython.core.display import HTML \n",
    "Image(url= \"https://github.com/c7mueller/PSYCH_420_SOM/blob/8262e50fa631e5579967adeb726bfea906c02511/neighbourhoods.png?raw=true\")"
   ]
  },
  {
   "cell_type": "markdown",
   "id": "0e2d526b-ee40-4abe-9496-303cbdc79157",
   "metadata": {},
   "source": [
    "Figure 1: A) step function, B) Gaussian function, C) Ricker wavelet. Orange lines indicate the position of the BMU, with the x-axes representing distance away from the BMU and the y-axes representing the value by which neuronal weights will be updated.\n",
    "\n",
    "##### Step 3: Adjusting the Weights\n",
    "After the BMU and its neighbours have been identified, the SOM begins to learn by adjusting the weights of these neurons. The weight vector for each neuron is updated according to the following rule, where $x$ is the input vector, $w$ is the weight vector at neuron $i$, $t$ represents the current iteration, and $\\alpha$ is the learning rate. \n",
    "$$ \n",
    "w_i(t+1)=w_i(t)+\\alpha(t)*neighbourhood(t)*(x-w_i(t))\n",
    "$$\n",
    "This rule pushes neurons closer to the input vector (or farther, when using something like a Ricker wavelet as a neighbourhood function), but the amount of movement depends on how close they are to the BMU. \n",
    "\n",
    "##### Step 4: Updating Parameters \n",
    "After weights have been updated, the learning rate and neighbourhood radius are decreased following an exponential decay function. The function for learning rate decay, where $t$ represents the current iteration, and $\\alpha$ is the learning rate, is: \n",
    "$$ \n",
    "\\alpha(t)=\\alpha_0*e^{-\\frac{t}{iterations}}\n",
    "$$\n",
    "\n",
    "The function for neighbourhood radius decay, where $r$ is the radius and $t$ is the current iteration, is: \n",
    "$$ \n",
    "r(t)=r_0*e^{-\\frac{t}{\\frac{iterations}{\\log(r_0)}}} \n",
    "$$\n",
    "\n",
    "Decreasing these parameters leads to the weights of fewer neurons being updated as the program progresses, and those weights being changed less profoundly. This effectively allows the map to transition from large-scale clustering to local fine-tuning. If these parameters did not decay, the map would continuously overcorrect and ultimately fail to converge into a meaningful result (Miljkovic, 2017).\n",
    "\n",
    "##### Step 5: Looping Through Iterations \n",
    "The previous four steps explain the processes that occur based on a single randomly selected input vector. In order to train a map, those steps must be repeated many times for many inputs. To do this, a set number of iterations is selected prior to running the algorithm and the above steps are repeated that many times. Having a finite number of iterations is essential as the equations for the decay of the learning rate and neighbourhood function rely on the iteration count; the map essentially takes exactly as many iterations as are set to converge because the entire program changes based on the iteration count (Miljkovic, 2017). However, the downside of such an approach is that SOMs can take a long time to run, since they have to loop through every iteration, and each iteration involves calculating the distance between the selected input and every neuron in the grid.\n",
    "\n",
    "#### Applying and Evaluating a SOM\n",
    "Training a map results in a change from a set of random, meaningless weight vectors to an ordered map that should display a clear structure in which neurons that are close to one another should show similar weights. From these results, it is often possible to visually recognize clusters in the data that, depending on the project, should correspond to relevant real-world categories. \n",
    "\n",
    "However, it is also necessary to evaluate whether or not a map has successfully converged into a meaningful topography or if adjustments, such as initial parameters, need to be made. There are numerous mathematical methods of evaluating a SOM, such as quantization error (which measures how close a BMU’s weight vector is to the nearest input); however, many of these methods are difficult to implement and easy-to-access libraries containing them are still being created (Forest et al., 2020). Regardless, mere visual inspection of the map is generally sufficient to determine if meaningful clusters have emerged. Instead, a simpler way to test a SOM is to map datapoints with known clusters onto the map and determine if they fall in a manner that is expected. To do so, the BMU for a new data point is calculated in the same manner as outlined in step 1 and plotted onto the location of the BMU. By repeating this process with many data points, the map can be evaluated based on how similar the clusters that form match known information about the dataset. This same method can also be used as an application of SOMs, as an aid for classifying new data. \n",
    "\n",
    "### Current Simulation \n",
    "The purpose of the present paper is to provide an introduction to SOMs and demonstrate a simple implementation in Python. The implementation was tested and evaluated to provide evidence that SOMs can be easily and accurately implemented in Python without relying on complex libraries, even for those with limited programming experience. In addition, the paper will explore how modifying the neighbourhood function of a SOM can affect final results. The goal of this simulation was to demonstrate how even a simple implementation of an SOM can be used to generate new findings and contribute to research. \n",
    "\n",
    "## Methods\n",
    "### Simulation Procedure \n",
    "The goal of this paper is to demonstrate a simple implementation of a SOM. As such, this implementation was made using minimal external packages. It was made in Python 3.13 using only the NumPy 2.2.4, matplotlib 3.10.1, and seaborn 0.13.2 packages (the latter two were used exclusively for visualizations), as well as scikit-learn 1.6.1 for the example data. This implementation can be customized using a wide variety of parameters (e.g. customizable map sizes, datasets, etc.). This paper, however, demonstrates the code using a specific set of parameters for the purpose of illustrating how the SOM implementation works across neighbourhood functions. \n",
    "\n",
    "Simulation parameters follow the default settings within the code. It was run using a map size of 10 x 10 neurons, based on guidelines suggesting a minimum $5\\sqrt{n}$ neurons, where n is the number of samples in the dataset, an iteration count of 300 and initial learning rate of 1.0. These parameters were all deemed sufficient through testing for use with this dataset. In addition, 20 randomly selected samples were used for testing the completed maps. \n",
    "\n",
    "The code includes options for three neighbourhood function types, as described previously—a step function, a Gaussian function, and a Ricker wavelet function. This simulation will run all three neighbourhood functions on the same dataset with the same parameters (though input datapoints are selected randomly and thus will change across the three maps) for the purpose of comparing the results of each function. It is expected that the Ricker wavelet will perform best, followed by the Gaussian curve, as these two functions are fairly similar to one another, and then the step function will perform the worst given its simplicity. \n",
    "\n",
    "Resulting maps were then judged based on visual inspection of two criteria: first, if the neuron weights formed into a smooth map with the expected number of clusters, and second, if the datapoints used for testing after the map was generated were organized in a way matching known classes of the data. \n",
    "\n",
    "### Data \n",
    "The breast cancer dataset from scikit-learn was used for the purpose of this simulation. This dataset contains 569 samples of cell nuclei from breast cancer patients, each with 30 features describing the cells (e.g. radius, compactness). These 30 features classify the data into two classes (malignant or benign tumours). \n",
    "\n",
    "This dataset was used for this simulation because it only has two classes. One of the benefits of SOMs is that they are unsupervised and do not require known classes; however, for the purposes of this simulation, a two-class dataset was chosen because it is the easiest to judge via visual inspection if the SOM has succeeded or not. \n",
    "\n",
    "PCA of the dataset (Fig. 2) shows that the first class (orange) are well-clustered together whereas the second class (blue) are more spread out. As such, maps will be evaluated based on how well they show a) two clear clusters and b) proper distribution of test data points based on known classes in which data belonging to the first class should be closer to one another than data belonging to the second class. "
   ]
  },
  {
   "cell_type": "code",
   "execution_count": 7,
   "id": "7a036a4e-1e31-4890-b9ee-afaca487d7d2",
   "metadata": {},
   "outputs": [
    {
     "data": {
      "text/html": [
       "<img src=\"https://github.com/c7mueller/PSYCH_420_SOM/blob/main/dataset_PCA.png?raw=true\"/>"
      ],
      "text/plain": [
       "<IPython.core.display.Image object>"
      ]
     },
     "execution_count": 7,
     "metadata": {},
     "output_type": "execute_result"
    }
   ],
   "source": [
    "from IPython.display import Image\n",
    "from IPython.core.display import HTML \n",
    "Image(url= \"https://github.com/c7mueller/PSYCH_420_SOM/blob/main/dataset_PCA.png?raw=true\")"
   ]
  },
  {
   "cell_type": "markdown",
   "id": "88cadf0d-d97f-48e3-81c8-810e234dcfa8",
   "metadata": {},
   "source": [
    "Figure 2: PCA of the breast cancer dataset.\n",
    "\n",
    "## Code & Results \n",
    "Results will be evaluated by two criteria: \n",
    "1. Does the map show two clear clusters arranged in a smooth gradient? \n",
    "2. Are test datapoints organized such that known classes are clustered together, with the first class grouped tighter together and the second more spread out but still cohesive?\n",
    "\n",
    "The code relating to the simulation is included below. For full access to the code .py file, it is available on [Github](https://github.com/c7mueller/PSYCH_420_SOM/blob/b2d94b89cbe128c3b5bd377003a98828166dfdf7/SOM.py#L1C1-L177C1). "
   ]
  },
  {
   "cell_type": "code",
   "execution_count": null,
   "id": "cfe7aca5c0f6c7f8",
   "metadata": {
    "jupyter": {
     "is_executing": true
    }
   },
   "outputs": [],
   "source": [
    "\"\"\"\n",
    "Simple Self-Organizing Map\n",
    "\n",
    "Parameters:\n",
    "    data: numpy array of arrays, where rows = data points and columns = features (default = iris dataset)\n",
    "        \"iris\" = sci-kit learn Iris dataset\n",
    "        \"cancer\" = sci-kit learn Cancer dataset\n",
    "    map_size: integer, side length of square map (default = calculated as 5*sqrt(# of samples in data))\n",
    "    init_learning_rate: float, initial learning rate (default = 1.0)\n",
    "    n_iterations: integer, number of iterations (default = 300)\n",
    "    neighbourhood_function: string (default = \"ricker\")\n",
    "        \"step\" = step function (neighbouring neurons coded as \"1\", all others \"0\")\n",
    "        \"gaussian\" = gaussian function\n",
    "        \"ricker\" = ricker wavelet function\n",
    "    test_map: boolean (default = TRUE)\n",
    "        TRUE = map will be tested using datapoints with known classes (supports up to 10 classes)\n",
    "        FALSE = map will not be tested\n",
    "    test_classes: numpy array of length = #datapoints in data; values should correspond to known classes of data (default = Iris dataset)\n",
    "        Must be included when test_map = True\n",
    "    num_tests: integer, number of datapoints to use during testing (default = 30)\n",
    "\"\"\"\n",
    "import numpy as np\n",
    "import matplotlib.pyplot as plt\n",
    "import seaborn as sns\n",
    "from sklearn.datasets import load_iris, load_breast_cancer\n",
    "\n",
    "\n",
    "def som(data=\"iris\", map_size=0, init_learning_rate=1.0, n_iterations=300, neighbourhood_type=\"ricker\", test_map=True, test_classes=0, num_tests=30):\n",
    "    # main function\n",
    "    try:\n",
    "        # get data and parameters \n",
    "        x = get_data(data, test_classes)[0]\n",
    "        y = get_data(data,test_classes)[1]\n",
    "        global g_map\n",
    "        if map_size == 0:\n",
    "            map_size = int(np.round(np.sqrt(5*(np.sqrt(x.shape[0])))))\n",
    "        g_map = map_size\n",
    "        init_radius = max(map_size, map_size) / 2\n",
    "        time_constant = n_iterations / np.log(init_radius)\n",
    "        n_features = x.shape[1]\n",
    "        weights = np.random.rand(map_size, map_size, n_features)\n",
    "        # run map algorithm \n",
    "        results = run_som(x, weights, init_learning_rate, n_iterations, neighbourhood_type, time_constant, init_radius)\n",
    "        visualize_som_weights(results)\n",
    "        # test map with known data \n",
    "        if test_map:\n",
    "            run_test(x,y,results,num_tests)\n",
    "        else:\n",
    "            plt.show()\n",
    "    except Exception as err:\n",
    "        print (\"Error:\",err)\n",
    "        raise\n",
    "    except:\n",
    "        # check for parameter input errors\n",
    "        print (\"Error:\")\n",
    "        print (*check_params(x, map_size, init_learning_rate, n_iterations, neighbourhood_type, test_map,y,num_tests),sep='\\n')\n",
    "    return\n",
    "\n",
    "def get_data(data, classes):\n",
    "    # gets data based on input parameters \n",
    "    if data == \"iris\":\n",
    "        dataset = load_iris()\n",
    "        x = dataset.data\n",
    "        y = dataset.target\n",
    "    if data == \"cancer\":\n",
    "        dataset = load_breast_cancer()\n",
    "        x = dataset.data\n",
    "        y = dataset.target\n",
    "    return x, y\n",
    "\n",
    "\n",
    "def check_params(data, map_size, init_learning_rate, n_iterations, neighbourhood_type, test_map, test_classes, num_tests):\n",
    "    # checks for parameter errors\n",
    "    errors = []\n",
    "    valid_data = [\"iris\",\"cancer\"]\n",
    "    if not isinstance(data, np.ndarray):\n",
    "        if data not in valid_data:\n",
    "            errors.append(\"Data must be a numpy array or a string reading one of {}\".format(valid_data))\n",
    "    if not isinstance(map_size, int):\n",
    "        errors.append(\"Map size must be a positive integer\")\n",
    "    if not isinstance(init_learning_rate, (float, int)):\n",
    "        errors.append(\"Initial learning rate must be a float\")\n",
    "    if not isinstance(n_iterations, int):\n",
    "        errors.append(\"Number of iterations must be a positive integer\")\n",
    "    valid_inputs = [\"step\", \"gaussian\", \"ricker\"]\n",
    "    if neighbourhood_type not in valid_inputs:\n",
    "        errors.append(\"Neighbourhood type must be one of {}\".format(valid_inputs))\n",
    "    if not isinstance(test_map, bool):\n",
    "        errors.append(\"Test map must be a boolean\")\n",
    "    if not isinstance(test_classes, np.ndarray):\n",
    "        errors.append(\"Test classes must be a numpy array\")\n",
    "    elif test_classes.shape[0] != data.shape[0]:\n",
    "        errors.append(\"Test classes and data must have the same number of rows\")\n",
    "    if not isinstance(num_tests, int):\n",
    "        errors.append(\"Number of tests must be a positive integer\")\n",
    "    if not errors:\n",
    "        errors.append(\"Error unknown\")\n",
    "    return errors\n",
    "\n",
    "\n",
    "def calc_distance(v1, v2):\n",
    "    # calculates Euclidean distance between two vectors\n",
    "    return np.linalg.norm(v1 - v2)\n",
    "\n",
    "def find_bmu(input_vector, weights):\n",
    "    # finds best matching unit for an input vector\n",
    "    bmu_idx = None\n",
    "    min_dist = np.inf\n",
    "    for i in range(g_map):\n",
    "        for j in range(g_map):\n",
    "            w = weights[i, j]\n",
    "            dist = calc_distance(input_vector, w)\n",
    "            if dist < min_dist:\n",
    "                min_dist = dist\n",
    "                bmu_idx = (i, j)\n",
    "    return bmu_idx\n",
    "\n",
    "def neighbourhood(dist_to_bmu, radius, type):\n",
    "    # determines where a neuron is within a neighbourhood function\n",
    "    if type == \"step\":\n",
    "        if dist_to_bmu < radius:\n",
    "            return 1\n",
    "        else:\n",
    "            return 0\n",
    "    elif type == \"gaussian\":\n",
    "        return np.exp(-dist_to_bmu**2 / (2 * radius**2))\n",
    "    elif type == \"ricker\":\n",
    "        excit = np.exp(-dist_to_bmu**2 / (2 * radius**2))\n",
    "        inhib = np.exp(-dist_to_bmu**2 / (radius**2))\n",
    "        return excit - inhib\n",
    "\n",
    "def update_weights(input_vector, bmu_idx, iteration, weights, learning_rate, time_constant, neighbourhood_type, init_radius):\n",
    "    # updates neuron weights\n",
    "    radius = init_radius * np.exp(-iteration / time_constant)\n",
    "    for i in range(g_map):\n",
    "        for j in range(g_map):\n",
    "            w = weights[i, j]\n",
    "            dist_to_bmu = calc_distance(np.array([i, j]), np.array(bmu_idx))\n",
    "            if dist_to_bmu < radius:\n",
    "                influence = neighbourhood(dist_to_bmu, radius, neighbourhood_type)\n",
    "                weights[i, j] += influence * learning_rate * (input_vector - w)\n",
    "    return weights\n",
    "\n",
    "def visualize_som_weights(weights):\n",
    "    plt.figure()\n",
    "    sns.heatmap(weights[:, :, 0])\n",
    "    #plt.show()\n",
    "\n",
    "def run_som(data, weights, init_learning_rate, n_iterations, neighbourhood_type, time_constant, init_radius):\n",
    "    # loops through all iterations\n",
    "    learning_rate = init_learning_rate\n",
    "    for iteration in range(n_iterations):\n",
    "        input_vector = data[np.random.randint(0, data.shape[0])]\n",
    "        bmu_idx = find_bmu(input_vector, weights)\n",
    "        weights = update_weights(input_vector, bmu_idx, iteration, weights, learning_rate, time_constant, neighbourhood_type, init_radius)\n",
    "        learning_rate = init_learning_rate * np.exp(-iteration / n_iterations)\n",
    "    return weights\n",
    "\n",
    "def infer_som(input_vector, weights):\n",
    "    # finds best matching unit for a known datapoint\n",
    "    inferred_index = find_bmu(input_vector, weights)\n",
    "    return inferred_index\n",
    "\n",
    "def test_som(data,classes,weights):\n",
    "    # tests and plots known datapoints\n",
    "    colours = [\"blue\",\"yellow\",\"green\",\"red\",\"purple\",\"brown\",\"orange\",\"white\",\"black\",\"pink\"]\n",
    "    test_index = np.random.randint(0, data.shape[0])\n",
    "    test_data = data[test_index]\n",
    "    test_location = infer_som(test_data, weights)\n",
    "    correct_class = classes[test_index]\n",
    "    plt.scatter(test_location[0], test_location[1], color=colours[correct_class])\n",
    "\n",
    "def run_test(data,classes,weights,num_tests):\n",
    "    # runs test using known datapoints\n",
    "    for i in range(num_tests):\n",
    "        test_som(data,classes,weights)\n",
    "    plt.show()"
   ]
  },
  {
   "cell_type": "markdown",
   "id": "2f783705-2466-4121-9d11-f3e9391f6063",
   "metadata": {
    "ExecuteTime": {
     "end_time": "2025-04-16T21:59:07.148869Z",
     "start_time": "2025-04-16T21:59:07.146914Z"
    }
   },
   "source": [
    "#### Ricker Wavelet Function \n",
    "The following code generates a SOM using a Ricker wavelet neighbourhood function and default parameters. Note that re-running the code will result in a different map appearing as input vectors are randomized upon running and thus if code is re-run, it is possible that the resulting map will not align exactly with the analysis of results included below. "
   ]
  },
  {
   "cell_type": "code",
   "execution_count": 16,
   "id": "f76b82f36d479b25",
   "metadata": {
    "ExecuteTime": {
     "end_time": "2025-04-16T21:59:07.857445Z",
     "start_time": "2025-04-16T21:59:07.510727Z"
    }
   },
   "outputs": [
    {
     "data": {
      "image/png": "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",
      "text/plain": [
       "<Figure size 640x480 with 2 Axes>"
      ]
     },
     "metadata": {},
     "output_type": "display_data"
    }
   ],
   "source": [
    "som(data=\"cancer\")"
   ]
  },
  {
   "cell_type": "markdown",
   "id": "01adca20-a818-4d1c-bc16-71c51e6897a0",
   "metadata": {
    "ExecuteTime": {
     "end_time": "2025-04-16T21:59:08.213680Z",
     "start_time": "2025-04-16T21:59:07.864932Z"
    }
   },
   "source": [
    "Figure 3: Results of the Ricker wavelet simulation.\n",
    "\n",
    "The above map (Fig. 3) shows results from running the code with default parameters and a Ricker wavelet neighbourhood function. Evaluating criterion 1) returns positive results; even with a low number of iterations (300), the map has neatly arranged itself into two clear clusters (dark and light areas on the heatmap) that smoothly transition across the map. Criterion 2) has also been met: the first class (blue dots) are clustered neatly and tightly together, whereas the second class (yellow dots) still form a cohesive cluster that aligns with the heatmap but are more spread out, matching known characteristics of the dataset. As such, it is clear that this implementation of a simple SOM was successful. \n",
    "\n",
    "#### Gaussian Function \n",
    "In order to demonstrate how even a simple implementation can be used to explore real and relevant new information, we also demonstrated how results change across different neighbourhood functions. The following code generates a SOM with identical parameters but using a Gaussian neighbourhood function. Note that maps will not be directly comparable as different input vectors are randomly chosen each time. "
   ]
  },
  {
   "cell_type": "code",
   "execution_count": 17,
   "id": "e2f36a8d373de35e",
   "metadata": {
    "ExecuteTime": {
     "end_time": "2025-04-16T21:59:08.223734Z",
     "start_time": "2025-04-16T21:59:08.221276Z"
    }
   },
   "outputs": [
    {
     "data": {
      "image/png": "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",
      "text/plain": [
       "<Figure size 640x480 with 2 Axes>"
      ]
     },
     "metadata": {},
     "output_type": "display_data"
    }
   ],
   "source": [
    "som(data=\"cancer\",neighbourhood_type=\"gaussian\")"
   ]
  },
  {
   "cell_type": "markdown",
   "id": "6b564e57-e61f-4976-85db-17d8e0cde18b",
   "metadata": {
    "ExecuteTime": {
     "end_time": "2025-04-16T21:59:08.233414Z",
     "start_time": "2025-04-16T21:59:08.231311Z"
    }
   },
   "source": [
    "Figure 4: Results of the Gaussian function simulation\n",
    "\n",
    "The above map (Fig. 4) shows results using default parameters excepting the use of a Gaussian curve as the neighbourhood function. Evaluating criterion 1) returns moderate results. There is a clear divide between two clusters, but there is not a consistent smooth gradient across all areas of the map. Evaluating criterion 2) shows that the map was again mostly successful, in that the first data class (blue dots) were clustered together tightly and the second data class (yellow dots) still form a cohesive cluster but are more spread out across the map. There is notably one blue dot mixed among the yellow; this may indicate that the map has not formed accurately, or it may just be that this is one of the rare data points of the first class that do, in fact, overlap with the second class (Fig. 2). In summary, the Gaussian function resulted in a mostly successful map but that was not as smooth or clear as the Ricker wavelet (Fig. 3).\n",
    "\n",
    "#### Step Function\n",
    "The following code generates a SOM using default parameters except for the use of a step function for the neighbourhood calculation. "
   ]
  },
  {
   "cell_type": "code",
   "execution_count": 22,
   "id": "fe04a8f8-98d5-47ce-961b-b097631b8c90",
   "metadata": {},
   "outputs": [
    {
     "data": {
      "image/png": "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",
      "text/plain": [
       "<Figure size 640x480 with 2 Axes>"
      ]
     },
     "metadata": {},
     "output_type": "display_data"
    }
   ],
   "source": [
    "som(data=\"cancer\", neighbourhood_type=\"step\")"
   ]
  },
  {
   "cell_type": "markdown",
   "id": "6031ef2c-b738-4775-b6fe-ef41916c288c",
   "metadata": {},
   "source": [
    "Figure 5: Results of the step function simulation\n",
    "\n",
    "The above map (Fig. 5) shows results using the step function. Evaluating crtierion 1) shows that it is not necessarily clear there are two classes of data present. There is still a general gradient from dark to light but they don't form a smooth pattern, and the heatmap colours around the center of the scale (dark orange) appear clustered together as well in the bottom-right corner in a manner that almost could be interpreted as a third cluster. Evaluating criterion 2) shows that while there is a general separation between the blue and yellow dots, they are mixed together in the center. Furthermore, there isn't a clear indication that the first class (blue dots) are more similar to one another than the second class (yellow). In summary, the step function has succeeded to some degree in that the map has organized itself in an interpretable way, but it is not necessarily clear or accurate enough to truly understand the data. \n",
    "\n",
    "## Discussion \n",
    "This Python implementation of a self-organizing map relies only on basic Python packages (e.g., numpy) and uses simple, easy-to-follow logic such that it could be understood with only a limited computational or mathematical background. However, despite the simplicity of its design, it nevertheless resulted in a clear, accurate map (Fig. 3) that allowed for easy interpretation of data. Even without knowing anything about the distribution of the dataset, visual inspection of the map allows for a clear conclusion that the dataset includes two classes of data that have a moderate degree of overlap (Fig. 3). \n",
    "\n",
    "In addition, comparison of neighbourhood functions shows that the Ricker wavelet function results in the best map (Fig. 3), followed by the Gaussian curve (Fig. 4), and then the step function (Fig. 5), as expected. Differences between the Ricker wavelet and Gaussian curve are not clearly pronounced or reliable; this makes sense as the Ricker wavelet is made up partially of a Gaussian curve, so results should be similar. Furthermore, the difference between the two may be more pronounced at a lower iteration count, as 300 iterations seems sufficient to create a moderately accurate map even with the very simple step function (Fig. 5). The step function map still generally displayed two clusters and mostly accurately arranged test data, but the map was visibly less smooth and clear to interpret than the other two neighbourhood functions. In general, these results align with other studies that have compared neighbourhood functions in SOMs (Stefanovic & Kurasova, 2014). \n",
    "\n",
    "This simulation confirms that a) SOMs can be easily implemented in Python without relying on complex libraries, and b) such an implementation can be used to compare across parameters of interest. Both of these findings support the conclusion that SOMs are a useful tool in psychological and neural research that can be applied by even those without advanced mathematical backgrounds. \n",
    "\n",
    "# References\n",
    "Akinduko, A. A., Mirkes, E. M., & Gorban, A. N. (2016). SOM: Stochastic initialization versus principal components. *Information Sciences*, 364–365, 213–221. https://doi.org/10.1016/j.ins.2015.10.013\n",
    "\n",
    "Das, G., Chattopadhyay, M., & Gupta, S. (2016). A Comparison of Self-organising Maps and Principal Components Analysis. *International Journal of Market Research*, 58(6), 815–834. https://doi.org/10.2501/IJMR-2016-039\n",
    "\n",
    "Forest, F., Lebbah, M., Azzag, H., & Lacaille, J. (2020). A Survey and Implementation of Performance Metrics for Self-Organized Maps. https://doi.org/10.48550/arxiv.2011.05847\n",
    "\n",
    "Grajciarová, L., Mareš, J., Dvořák, P., & Procházka, A. (2012). Biomedical image analysis using self-organizing maps. In Proceedings of the 2012 International Conference on Applied Electronics.\n",
    "\n",
    "Hsu, C. (2006). Generalizing self-organizing map for categorical data. *IEEE Transaction on Neural Networks and Learning Systems*, 17(2), 294–304. https://doi.org/10.1109/TNN.2005.863415 \n",
    "\n",
    "Kohonen, T. (1982). Self-organized formation of topologically correct feature maps. *Biological Cybernetics*, 43(1), 59–69. https://doi.org/10.1007/BF00337288 \n",
    "\n",
    "Kohonen, T. (1990). The self-organizing map. *Proceedings of the IEEE*, 78(9), 1464–1480. https://doi.org/10.1109/5.58325 \n",
    "\n",
    "Kohonen, T. (1993). Physiological interpretation of the Self-Organizing Map algorithm. *Neural Networks*, 6(7), 895–905. https://doi.org/10.1016/S0893-6080(09)80001-4\n",
    "\n",
    "Kohonen, T. (2013). Essentials of the self-organizing map. *Neural Networks*, 37, 52–65. https://doi.org/10.1016/j.neunet.2012.09.018 \n",
    "\n",
    "Kohonen, T. (2014). MATLAB implementations and applications of the self-organizing map. Unigrafia Oy, Helsinki, Finland. \n",
    "\n",
    "Kohonen, T., & Hari, R. (1999). Where the abstract feature maps of the brain might come from. *Trends in Neurosciences*, 22(3), 135-139. https://doi.org/10.1016/s0166-2236(98)01342-3\n",
    "\n",
    "Li, P., & Zhao, X. (2013). Self-organizing map models of language acquisition. *Frontiers in Psychology*, 4, 828–828. https://doi.org/10.3389/fpsyg.2013.00828\n",
    "\n",
    "Lopez-Rubio, E., & Ramos, A. D. (2014). Grid topologies for the self-organizing map. *Neural Networks*, 56, 35–48. https://doi.org/10.1016/j.neunet.2014.05.001 \n",
    "\n",
    "Loula, R., & Monteiro, L. H. A. (2022). On the criteria for diagnosing depression in bereaved individuals: a self-organizing map approach. *Mathematical Biosciences and Engineering : MBE*, 19(6), 5380–5392. https://doi.org/10.3934/mbe.2022252\n",
    "\n",
    "Miljkovic, D. (2017). Brief review of self-organizing maps. *2017 40th International Convention on Information and Communication Technology, Electronics and Microelectronics (MIPRO)*, 1061–1066. https://doi.org/10.23919/MIPRO.2017.7973581\n",
    "\n",
    "Montalt-García, S., Estevan, I., Villarrasa-Sapiña, I., & García-Massó, X. (2025). A person-centered approach to cognitive performance analysis in primary school children: Comparisons through self-organizing maps. *PloS One*, 20(2), e0318836-. https://doi.org/10.1371/journal.pone.0318836\n",
    "\n",
    "Rogovschi, N., Lebbah, M., & Bennani, Y. (2011). A self-organizing map for mixed continuous and categorical data. *International Journal of Computing*, 24–32. https://doi.org/10.47839/ijc.10.1.733\n",
    "\n",
    "Stefanovic, P., & Kurasova, O. (2014). Investigation on Learning Parameters of Self-Organizing Maps. *Baltic Journal of Modern Computing*, 2(2), 45–45.\n",
    "\n",
    "Vettigli, G. (2018). *MiniSom: Minimalistic and NumPy-based implementation of the self organizing map*. https://github.com/JustGlowing/minisom/\n",
    "\n",
    "Viviani, R., & Dorronsoro, J. R. (2002). Lateral Interactions in Self-Organizing Maps. In Artificial Neural Networks -- ICANN 2002 (Vol. 2415, pp. 920–926). Springer Berlin / Heidelberg. https://doi.org/10.1007/3-540-46084-5_149 \n",
    "\n",
    "Xu, J., & Yang, W. (2023). Autism Diagnosis using Linear and Nonlinear Analysis of Resting-State EEG and Self-Organizing Map. *International Journal of Advanced Computer Science and Applications*, 14(9)https://doi.org/10.14569/IJACSA.2023.01409123 \n",
    "\n"
   ]
  },
 ],
 "metadata": {
  "kernelspec": {
   "display_name": "Python 3 (ipykernel)",
   "language": "python",
   "name": "python3"
  },
  "language_info": {
   "codemirror_mode": {
    "name": "ipython",
    "version": 3
   },
   "file_extension": ".py",
   "mimetype": "text/x-python",
   "name": "python",
   "nbconvert_exporter": "python",
   "pygments_lexer": "ipython3",
   "version": "3.13.2"
  }
 },
 "nbformat": 4,
 "nbformat_minor": 5
}
